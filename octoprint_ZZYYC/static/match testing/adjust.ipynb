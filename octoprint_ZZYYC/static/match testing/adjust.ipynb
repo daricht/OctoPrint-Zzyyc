{
 "cells": [
  {
   "cell_type": "code",
   "execution_count": 21,
   "metadata": {},
   "outputs": [
    {
     "name": "stdout",
     "output_type": "stream",
     "text": [
      "108\n"
     ]
    }
   ],
   "source": [
    "import json\n",
    "\n",
    "# Load JSON data\n",
    "with open('2.json', 'r') as f:\n",
    "    data = json.load(f)\n",
    "\n",
    "print((data[0][0]))\n",
    "\n",
    "\n",
    "\n",
    "#print (list(range(0, max(x), 10)))\n",
    "\n",
    "#find all the full 10s in x and y wihtin the values stored in x  and y\n",
    "\n",
    "\n",
    "\n",
    "\n",
    "\n"
   ]
  }
 ],
 "metadata": {
  "kernelspec": {
   "display_name": "Python 3",
   "language": "python",
   "name": "python3"
  },
  "language_info": {
   "codemirror_mode": {
    "name": "ipython",
    "version": 3
   },
   "file_extension": ".py",
   "mimetype": "text/x-python",
   "name": "python",
   "nbconvert_exporter": "python",
   "pygments_lexer": "ipython3",
   "version": "3.9.6"
  },
  "orig_nbformat": 4
 },
 "nbformat": 4,
 "nbformat_minor": 2
}
