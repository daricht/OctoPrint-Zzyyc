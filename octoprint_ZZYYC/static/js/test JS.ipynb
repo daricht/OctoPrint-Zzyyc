{
 "cells": [
  {
   "cell_type": "code",
   "execution_count": 2,
   "metadata": {},
   "outputs": [
    {
     "ename": "NameError",
     "evalue": "name 'x_lower' is not defined",
     "output_type": "error",
     "traceback": [
      "\u001b[0;31m---------------------------------------------------------------------------\u001b[0m",
      "\u001b[0;31mNameError\u001b[0m                                 Traceback (most recent call last)",
      "\u001b[1;32m/Users/davidrichter/Documents/Projekte/PythonGCode/Probing/Octopi_Plugin/OctoPrint/src/octoprint/plugins/OctoPrint-Zzyyc/octoprint_ZZYYC/static/js/test JS.ipynb Cell 1\u001b[0m in \u001b[0;36m1\n\u001b[1;32m      <a href='vscode-notebook-cell:/Users/davidrichter/Documents/Projekte/PythonGCode/Probing/Octopi_Plugin/OctoPrint/src/octoprint/plugins/OctoPrint-Zzyyc/octoprint_ZZYYC/static/js/test%20JS.ipynb#W0sZmlsZQ%3D%3D?line=4'>5</a>\u001b[0m     PointCloud \u001b[39m=\u001b[39m json\u001b[39m.\u001b[39mload(f)\n\u001b[1;32m      <a href='vscode-notebook-cell:/Users/davidrichter/Documents/Projekte/PythonGCode/Probing/Octopi_Plugin/OctoPrint/src/octoprint/plugins/OctoPrint-Zzyyc/octoprint_ZZYYC/static/js/test%20JS.ipynb#W0sZmlsZQ%3D%3D?line=8'>9</a>\u001b[0m \u001b[39m# Filter the PointCloud to find all the points that are located at the corners of a square\u001b[39;00m\n\u001b[0;32m---> <a href='vscode-notebook-cell:/Users/davidrichter/Documents/Projekte/PythonGCode/Probing/Octopi_Plugin/OctoPrint/src/octoprint/plugins/OctoPrint-Zzyyc/octoprint_ZZYYC/static/js/test%20JS.ipynb#W0sZmlsZQ%3D%3D?line=9'>10</a>\u001b[0m cornerpoints \u001b[39m=\u001b[39m \u001b[39mlist\u001b[39;49m(\u001b[39mfilter\u001b[39;49m(\u001b[39mlambda\u001b[39;49;00m e: (e[\u001b[39m'\u001b[39;49m\u001b[39mx\u001b[39;49m\u001b[39m'\u001b[39;49m] \u001b[39m==\u001b[39;49m x_lower \u001b[39mand\u001b[39;49;00m e[\u001b[39m'\u001b[39;49m\u001b[39my\u001b[39;49m\u001b[39m'\u001b[39;49m] \u001b[39m==\u001b[39;49m y_lower) \u001b[39mor\u001b[39;49;00m (e[\u001b[39m'\u001b[39;49m\u001b[39mx\u001b[39;49m\u001b[39m'\u001b[39;49m] \u001b[39m==\u001b[39;49m x_lower \u001b[39mand\u001b[39;49;00m e[\u001b[39m'\u001b[39;49m\u001b[39my\u001b[39;49m\u001b[39m'\u001b[39;49m] \u001b[39m==\u001b[39;49m y_upper) \u001b[39mor\u001b[39;49;00m (e[\u001b[39m'\u001b[39;49m\u001b[39mx\u001b[39;49m\u001b[39m'\u001b[39;49m] \u001b[39m==\u001b[39;49m x_upper \u001b[39mand\u001b[39;49;00m e[\u001b[39m'\u001b[39;49m\u001b[39my\u001b[39;49m\u001b[39m'\u001b[39;49m] \u001b[39m==\u001b[39;49m y_lower) \u001b[39mor\u001b[39;49;00m (e[\u001b[39m'\u001b[39;49m\u001b[39mx\u001b[39;49m\u001b[39m'\u001b[39;49m] \u001b[39m==\u001b[39;49m x_upper \u001b[39mand\u001b[39;49;00m e[\u001b[39m'\u001b[39;49m\u001b[39my\u001b[39;49m\u001b[39m'\u001b[39;49m] \u001b[39m==\u001b[39;49m y_upper), PointCloud))\n\u001b[1;32m     <a href='vscode-notebook-cell:/Users/davidrichter/Documents/Projekte/PythonGCode/Probing/Octopi_Plugin/OctoPrint/src/octoprint/plugins/OctoPrint-Zzyyc/octoprint_ZZYYC/static/js/test%20JS.ipynb#W0sZmlsZQ%3D%3D?line=11'>12</a>\u001b[0m \u001b[39m# If there are less than 4 points in the PointCloud, make the missing points z height = 0\u001b[39;00m\n\u001b[1;32m     <a href='vscode-notebook-cell:/Users/davidrichter/Documents/Projekte/PythonGCode/Probing/Octopi_Plugin/OctoPrint/src/octoprint/plugins/OctoPrint-Zzyyc/octoprint_ZZYYC/static/js/test%20JS.ipynb#W0sZmlsZQ%3D%3D?line=12'>13</a>\u001b[0m \u001b[39mif\u001b[39;00m \u001b[39mlen\u001b[39m(cornerpoints) \u001b[39m>\u001b[39m \u001b[39m4\u001b[39m:\n\u001b[1;32m     <a href='vscode-notebook-cell:/Users/davidrichter/Documents/Projekte/PythonGCode/Probing/Octopi_Plugin/OctoPrint/src/octoprint/plugins/OctoPrint-Zzyyc/octoprint_ZZYYC/static/js/test%20JS.ipynb#W0sZmlsZQ%3D%3D?line=13'>14</a>\u001b[0m     \u001b[39m# Throw an error\u001b[39;00m\n",
      "\u001b[1;32m/Users/davidrichter/Documents/Projekte/PythonGCode/Probing/Octopi_Plugin/OctoPrint/src/octoprint/plugins/OctoPrint-Zzyyc/octoprint_ZZYYC/static/js/test JS.ipynb Cell 1\u001b[0m in \u001b[0;36m1\n\u001b[1;32m      <a href='vscode-notebook-cell:/Users/davidrichter/Documents/Projekte/PythonGCode/Probing/Octopi_Plugin/OctoPrint/src/octoprint/plugins/OctoPrint-Zzyyc/octoprint_ZZYYC/static/js/test%20JS.ipynb#W0sZmlsZQ%3D%3D?line=4'>5</a>\u001b[0m     PointCloud \u001b[39m=\u001b[39m json\u001b[39m.\u001b[39mload(f)\n\u001b[1;32m      <a href='vscode-notebook-cell:/Users/davidrichter/Documents/Projekte/PythonGCode/Probing/Octopi_Plugin/OctoPrint/src/octoprint/plugins/OctoPrint-Zzyyc/octoprint_ZZYYC/static/js/test%20JS.ipynb#W0sZmlsZQ%3D%3D?line=8'>9</a>\u001b[0m \u001b[39m# Filter the PointCloud to find all the points that are located at the corners of a square\u001b[39;00m\n\u001b[0;32m---> <a href='vscode-notebook-cell:/Users/davidrichter/Documents/Projekte/PythonGCode/Probing/Octopi_Plugin/OctoPrint/src/octoprint/plugins/OctoPrint-Zzyyc/octoprint_ZZYYC/static/js/test%20JS.ipynb#W0sZmlsZQ%3D%3D?line=9'>10</a>\u001b[0m cornerpoints \u001b[39m=\u001b[39m \u001b[39mlist\u001b[39m(\u001b[39mfilter\u001b[39m(\u001b[39mlambda\u001b[39;00m e: (e[\u001b[39m'\u001b[39m\u001b[39mx\u001b[39m\u001b[39m'\u001b[39m] \u001b[39m==\u001b[39m x_lower \u001b[39mand\u001b[39;00m e[\u001b[39m'\u001b[39m\u001b[39my\u001b[39m\u001b[39m'\u001b[39m] \u001b[39m==\u001b[39m y_lower) \u001b[39mor\u001b[39;00m (e[\u001b[39m'\u001b[39m\u001b[39mx\u001b[39m\u001b[39m'\u001b[39m] \u001b[39m==\u001b[39m x_lower \u001b[39mand\u001b[39;00m e[\u001b[39m'\u001b[39m\u001b[39my\u001b[39m\u001b[39m'\u001b[39m] \u001b[39m==\u001b[39m y_upper) \u001b[39mor\u001b[39;00m (e[\u001b[39m'\u001b[39m\u001b[39mx\u001b[39m\u001b[39m'\u001b[39m] \u001b[39m==\u001b[39m x_upper \u001b[39mand\u001b[39;00m e[\u001b[39m'\u001b[39m\u001b[39my\u001b[39m\u001b[39m'\u001b[39m] \u001b[39m==\u001b[39m y_lower) \u001b[39mor\u001b[39;00m (e[\u001b[39m'\u001b[39m\u001b[39mx\u001b[39m\u001b[39m'\u001b[39m] \u001b[39m==\u001b[39m x_upper \u001b[39mand\u001b[39;00m e[\u001b[39m'\u001b[39m\u001b[39my\u001b[39m\u001b[39m'\u001b[39m] \u001b[39m==\u001b[39m y_upper), PointCloud))\n\u001b[1;32m     <a href='vscode-notebook-cell:/Users/davidrichter/Documents/Projekte/PythonGCode/Probing/Octopi_Plugin/OctoPrint/src/octoprint/plugins/OctoPrint-Zzyyc/octoprint_ZZYYC/static/js/test%20JS.ipynb#W0sZmlsZQ%3D%3D?line=11'>12</a>\u001b[0m \u001b[39m# If there are less than 4 points in the PointCloud, make the missing points z height = 0\u001b[39;00m\n\u001b[1;32m     <a href='vscode-notebook-cell:/Users/davidrichter/Documents/Projekte/PythonGCode/Probing/Octopi_Plugin/OctoPrint/src/octoprint/plugins/OctoPrint-Zzyyc/octoprint_ZZYYC/static/js/test%20JS.ipynb#W0sZmlsZQ%3D%3D?line=12'>13</a>\u001b[0m \u001b[39mif\u001b[39;00m \u001b[39mlen\u001b[39m(cornerpoints) \u001b[39m>\u001b[39m \u001b[39m4\u001b[39m:\n\u001b[1;32m     <a href='vscode-notebook-cell:/Users/davidrichter/Documents/Projekte/PythonGCode/Probing/Octopi_Plugin/OctoPrint/src/octoprint/plugins/OctoPrint-Zzyyc/octoprint_ZZYYC/static/js/test%20JS.ipynb#W0sZmlsZQ%3D%3D?line=13'>14</a>\u001b[0m     \u001b[39m# Throw an error\u001b[39;00m\n",
      "\u001b[0;31mNameError\u001b[0m: name 'x_lower' is not defined"
     ]
    }
   ],
   "source": [
    "import json\n",
    "\n",
    "# Load the PointCloud\n",
    "with open('Point.json') as f:\n",
    "    PointCloud = json.load(f)\n",
    "\n",
    "for (let y = 0; y <= size_y; y += stepsize_y) {\n",
    "    for (let x = 0; x <= size_x; x += stepsize_x) {\n",
    "\n",
    "# Filter the PointCloud to find all the points that are located at the corners of a square\n",
    "cornerpoints = list(filter(lambda e: (e['x'] == x_lower and e['y'] == y_lower) or (e['x'] == x_lower and e['y'] == y_upper) or (e['x'] == x_upper and e['y'] == y_lower) or (e['x'] == x_upper and e['y'] == y_upper), PointCloud))\n",
    "\n",
    "# If there are less than 4 points in the PointCloud, make the missing points z height = 0\n",
    "if len(cornerpoints) > 4:\n",
    "    # Throw an error\n",
    "    print(f\"Error: more than 4 points found in the PointCloud. Length: {len(cornerpoints)}, x: {x}, y: {y}, x_lower: {x_lower}, y_lower: {y_lower}, x_upper: {x_upper}, y_upper: {y_upper}\")\n",
    "    return\n",
    "if len(cornerpoints) < 4:\n",
    "    while len(cornerpoints) < 4:\n",
    "        cornerpoints.append({'x': 0, 'y': 0, 'z': 0})\n",
    "    }\n",
    "    }"
   ]
  }
 ],
 "metadata": {
  "kernelspec": {
   "display_name": "Python 3",
   "language": "python",
   "name": "python3"
  },
  "language_info": {
   "codemirror_mode": {
    "name": "ipython",
    "version": 3
   },
   "file_extension": ".py",
   "mimetype": "text/x-python",
   "name": "python",
   "nbconvert_exporter": "python",
   "pygments_lexer": "ipython3",
   "version": "3.9.6"
  },
  "orig_nbformat": 4
 },
 "nbformat": 4,
 "nbformat_minor": 2
}
